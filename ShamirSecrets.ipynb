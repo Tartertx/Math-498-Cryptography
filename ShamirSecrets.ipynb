{
 "cells": [
  {
   "cell_type": "markdown",
   "id": "1a5c7e00",
   "metadata": {},
   "source": [
    "Shamir Secret Sharing:\n",
    "\n",
    "- Enter the secret, s, and the minimum number of recipients, t, of n shares.\n",
    "\n",
    "- Let p > max(s, n), with $\\mathbb{F}_p$ as our finite field. \n",
    "\n",
    "- Generate random coefficients for a polynomial of degree t-1, f(x), with the y-intercept as the secret text.\n",
    "\n",
    "- Compute n points on the polynomial, (x, f(x)), with $x \\neq 0$.\n",
    "\n",
    "- Give each participant a unique point.\n",
    "\n",
    "- To reconstruct the secret, use Lagrange interpolation formula with t many points of interpolation, and evaluate it at f(0) mod p."
   ]
  },
  {
   "cell_type": "code",
   "execution_count": 3,
   "id": "61faf1d7",
   "metadata": {},
   "outputs": [],
   "source": [
    "import pandas as pd \n",
    "import sagemath as sg \n",
    "import random as rd\n",
    "import numpy as np\n",
    "import plotly.express as px\n",
    "from random import randint\n",
    "from math import gcd\n",
    "import gmpy2\n",
    "from gmpy2 import mpz, is_prime, gcdext, invert\n",
    "import sympy as sp\n",
    "from sympy import isprime, factorint, mod_inverse\n",
    "import numpy.polynomial.polynomial as poly"
   ]
  },
  {
   "cell_type": "markdown",
   "id": "d4f1216d",
   "metadata": {},
   "source": [
    "Encoding"
   ]
  },
  {
   "cell_type": "code",
   "execution_count": 11,
   "id": "bc569569",
   "metadata": {},
   "outputs": [
    {
     "name": "stdout",
     "output_type": "stream",
     "text": [
      "We are using Z mod 101 as our finite field.\n",
      "\n",
      "Polynomial:\n"
     ]
    },
    {
     "data": {
      "text/latex": [
       "$x \\mapsto \\text{17.0} + \\text{7.0}\\,x + \\text{11.0}\\,x^{2} + \\text{34.0}\\,x^{3} + \\text{13.0}\\,x^{4} + \\text{42.0}\\,x^{5} + \\text{35.0}\\,x^{6}$"
      ],
      "text/plain": [
       "Polynomial([17.,  7., 11., 34., 13., 42., 35.], domain=[-1,  1], window=[-1,  1], symbol='x')"
      ]
     },
     "metadata": {},
     "output_type": "display_data"
    },
    {
     "data": {
      "text/html": [
       "<div>\n",
       "<style scoped>\n",
       "    .dataframe tbody tr th:only-of-type {\n",
       "        vertical-align: middle;\n",
       "    }\n",
       "\n",
       "    .dataframe tbody tr th {\n",
       "        vertical-align: top;\n",
       "    }\n",
       "\n",
       "    .dataframe thead th {\n",
       "        text-align: right;\n",
       "    }\n",
       "</style>\n",
       "<table border=\"1\" class=\"dataframe\">\n",
       "  <thead>\n",
       "    <tr style=\"text-align: right;\">\n",
       "      <th></th>\n",
       "      <th>X</th>\n",
       "      <th>f(X)</th>\n",
       "    </tr>\n",
       "  </thead>\n",
       "  <tbody>\n",
       "    <tr>\n",
       "      <th>0</th>\n",
       "      <td>63</td>\n",
       "      <td>2230218246329.0</td>\n",
       "    </tr>\n",
       "    <tr>\n",
       "      <th>1</th>\n",
       "      <td>78</td>\n",
       "      <td>8003744746079.0</td>\n",
       "    </tr>\n",
       "    <tr>\n",
       "      <th>2</th>\n",
       "      <td>82</td>\n",
       "      <td>10796550813339.0</td>\n",
       "    </tr>\n",
       "    <tr>\n",
       "      <th>3</th>\n",
       "      <td>68</td>\n",
       "      <td>3521715801629.0</td>\n",
       "    </tr>\n",
       "    <tr>\n",
       "      <th>5</th>\n",
       "      <td>16</td>\n",
       "      <td>632236929.0</td>\n",
       "    </tr>\n",
       "    <tr>\n",
       "      <th>...</th>\n",
       "      <td>...</td>\n",
       "      <td>...</td>\n",
       "    </tr>\n",
       "    <tr>\n",
       "      <th>91</th>\n",
       "      <td>25</td>\n",
       "      <td>8960694567.0</td>\n",
       "    </tr>\n",
       "    <tr>\n",
       "      <th>92</th>\n",
       "      <td>70</td>\n",
       "      <td>4188628246407.0</td>\n",
       "    </tr>\n",
       "    <tr>\n",
       "      <th>96</th>\n",
       "      <td>49</td>\n",
       "      <td>496387981743.0</td>\n",
       "    </tr>\n",
       "    <tr>\n",
       "      <th>97</th>\n",
       "      <td>96</td>\n",
       "      <td>27740113505969.0</td>\n",
       "    </tr>\n",
       "    <tr>\n",
       "      <th>98</th>\n",
       "      <td>4</td>\n",
       "      <td>192093.0</td>\n",
       "    </tr>\n",
       "  </tbody>\n",
       "</table>\n",
       "<p>63 rows × 2 columns</p>\n",
       "</div>"
      ],
      "text/plain": [
       "     X              f(X)\n",
       "0   63   2230218246329.0\n",
       "1   78   8003744746079.0\n",
       "2   82  10796550813339.0\n",
       "3   68   3521715801629.0\n",
       "5   16       632236929.0\n",
       "..  ..               ...\n",
       "91  25      8960694567.0\n",
       "92  70   4188628246407.0\n",
       "96  49    496387981743.0\n",
       "97  96  27740113505969.0\n",
       "98   4          192093.0\n",
       "\n",
       "[63 rows x 2 columns]"
      ]
     },
     "metadata": {},
     "output_type": "display_data"
    }
   ],
   "source": [
    "secret = 17\n",
    "min_reps = 7\n",
    "n = 100\n",
    "\n",
    "p = max(secret, n) + 1\n",
    "def getPrime(p):\n",
    "    k = True\n",
    "\n",
    "    while k == True:\n",
    "        if isprime(p) == True:\n",
    "            k = False\n",
    "        else:\n",
    "            p = p +1\n",
    "        \n",
    "    return p\n",
    "\n",
    "prime = getPrime(p)\n",
    "print(f'We are using Z mod {prime} as our finite field.')\n",
    "\n",
    "\n",
    "def polynomialMaker(t,prime):\n",
    "    polylist = [secret]\n",
    "    for i in range(t-1):\n",
    "        polylist = polylist + [randint(0,prime)]\n",
    "    eq = poly.Polynomial(polylist)\n",
    "    return eq\n",
    "\n",
    "encodingPoly = polynomialMaker(min_reps,prime)\n",
    "print('\\nPolynomial:')\n",
    "display(encodingPoly)\n",
    "\n",
    "\n",
    "def splitter(eq, n, prime):\n",
    "    points = pd.DataFrame(columns=['X', 'f(X)'])\n",
    "    list = []\n",
    "    for i in range(n):\n",
    "        k = randint(1,n)\n",
    "        if k in list:\n",
    "            continue\n",
    "        else:\n",
    "            list = list + [k]\n",
    "            points.loc[i, 'X'\n",
    "                       ] = k\n",
    "            num = eq(k)\n",
    "            points.loc[i, 'f(X)'] = num \n",
    "    \n",
    "    return points\n",
    "\n",
    "ciphertext = splitter(encodingPoly, n, prime)\n",
    "display(ciphertext)"
   ]
  },
  {
   "cell_type": "markdown",
   "id": "30b724d1",
   "metadata": {},
   "source": [
    "Decoding:"
   ]
  },
  {
   "cell_type": "code",
   "execution_count": 12,
   "id": "a5afcd94",
   "metadata": {},
   "outputs": [
    {
     "name": "stdout",
     "output_type": "stream",
     "text": [
      "Lagrange Polynomial is 17.0 + 7.0 x + 11.0 x**2 + 34.0 x**3 + 13.0 x**4 + 42.0 x**5 + 35.0 x**6\n",
      "\n",
      "Safetext was 17.0\n"
     ]
    }
   ],
   "source": [
    "def modinv(a, p):\n",
    "    return pow(a, p - 2, p)\n",
    "\n",
    "def lagrange_symbolic(df, p):\n",
    "    x = sp.Symbol('x')\n",
    "    xs = [int(v) for v in df['X']]\n",
    "    ys = [int(v) for v in df['f(X)']]\n",
    "    n = len(xs)\n",
    "\n",
    "    poly = 0\n",
    "    for i in range(n):\n",
    "        xi, yi = xs[i], ys[i]\n",
    "        term = yi\n",
    "        numerator = 1\n",
    "        denominator = 1\n",
    "        Li = 1\n",
    "        for j in range(n):\n",
    "            if i != j:\n",
    "                xj = xs[j]\n",
    "                numerator *= (x - xj)\n",
    "                denominator *= (xi - xj) % p\n",
    "        Li = numerator * modinv(denominator, p)\n",
    "        poly += term * Li\n",
    "\n",
    "    # Expand and reduce modulo p\n",
    "    poly = sp.expand(poly)\n",
    "    coeffs = sp.Poly(poly, x, modulus=p).all_coeffs()  # highest degree first\n",
    "\n",
    "    # Convert to ascending order\n",
    "    return [int(c) for c in reversed(coeffs)]\n",
    "\n",
    "shift_factor = 0\n",
    "\n",
    "decodingPoly = lagrange_symbolic(ciphertext.head(min_reps+shift_factor), prime)\n",
    "eq = poly.Polynomial(decodingPoly)\n",
    "print(f'Lagrange Polynomial is {eq}')\n",
    "print(f'\\nSafetext was {(eq(0)%prime)}')\n"
   ]
  }
 ],
 "metadata": {
  "kernelspec": {
   "display_name": "Python 3",
   "language": "python",
   "name": "python3"
  },
  "language_info": {
   "codemirror_mode": {
    "name": "ipython",
    "version": 3
   },
   "file_extension": ".py",
   "mimetype": "text/x-python",
   "name": "python",
   "nbconvert_exporter": "python",
   "pygments_lexer": "ipython3",
   "version": "3.12.10"
  }
 },
 "nbformat": 4,
 "nbformat_minor": 5
}
